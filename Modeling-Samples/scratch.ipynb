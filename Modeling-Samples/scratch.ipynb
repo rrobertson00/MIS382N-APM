{
 "cells": [
  {
   "cell_type": "markdown",
   "metadata": {},
   "source": [
    "\n",
    "# <p style=\"text-align: center;\">Assignment 1</p>"
   ]
  },
  {
   "cell_type": "markdown",
   "metadata": {},
   "source": [
    "# MLR using scikit-learn\n",
    "\n",
    "Consider the dataset (Advertising.csv), which has the following variables:\n",
    "\n",
    "  * TV: advertising dollars spent on TV for a single product (in thousands of dollars)\n",
    "  * Radio: advertising dollars spent on Radio\n",
    "  * Newspaper: advertising dollars spent on Newspaper\n",
    "  * Sales (dependent variable): sales of a single product in a given market (in thousands of widgets)\n",
    "\n",
    "\n",
    "We are interested in predicting sales based on the first three \"feature\" variables (TV, Radio and Newspaper).\n",
    "\n",
    "1. (2 pts) Print the shape (number of rows and columns) of the data matrix , and show the first 5 rows. (Use shape and head commands in python)\n",
    "2. (4 pts) Visualize the relationship between the features and the response variable (Sales) using scatterplots. Comment on the fits.\n",
    "2. (2 pts) Fit a simple linear regression of SALES on TV. What is the regression coefficient for TV and what is its interpretation?\n",
    "3. Split the data randomly into a training and test set (keep 1/3rd of the data for test).\n",
    "\n",
    "  * (4 pts) Fit an MLR on all the feature variables using the training data and evaluate the trained model on the test data using root mean squared error. \n",
    "  * (2 pts) Report the MSE obtained on train data. How much does this increase when you score your\n",
    "model on test data?\n",
    "  * (2 pts) Report the coefficients obtained by your model.\n",
    "  * (4 pts) Do you think your MLR model is reasonable for this problem? You may look at the distribution of residuals to provide an informed answer.\n",
    "\n",
    "\n",
    "## Answer\n",
    "\n"
   ]
  },
  {
   "cell_type": "code",
   "execution_count": 10,
   "metadata": {
    "collapsed": false
   },
   "outputs": [
    {
     "name": "stdout",
     "output_type": "stream",
     "text": [
      "Matrix Shape:\n",
      "(200, 4)\n",
      "The first five rows:\n"
     ]
    },
    {
     "data": {
      "text/html": [
       "<div>\n",
       "<table border=\"1\" class=\"dataframe\">\n",
       "  <thead>\n",
       "    <tr style=\"text-align: right;\">\n",
       "      <th></th>\n",
       "      <th>TV</th>\n",
       "      <th>Radio</th>\n",
       "      <th>Newspaper</th>\n",
       "      <th>Sales</th>\n",
       "    </tr>\n",
       "  </thead>\n",
       "  <tbody>\n",
       "    <tr>\n",
       "      <th>1</th>\n",
       "      <td>230.1</td>\n",
       "      <td>37.8</td>\n",
       "      <td>69.2</td>\n",
       "      <td>22.1</td>\n",
       "    </tr>\n",
       "    <tr>\n",
       "      <th>2</th>\n",
       "      <td>44.5</td>\n",
       "      <td>39.3</td>\n",
       "      <td>45.1</td>\n",
       "      <td>10.4</td>\n",
       "    </tr>\n",
       "    <tr>\n",
       "      <th>3</th>\n",
       "      <td>17.2</td>\n",
       "      <td>45.9</td>\n",
       "      <td>69.3</td>\n",
       "      <td>9.3</td>\n",
       "    </tr>\n",
       "    <tr>\n",
       "      <th>4</th>\n",
       "      <td>151.5</td>\n",
       "      <td>41.3</td>\n",
       "      <td>58.5</td>\n",
       "      <td>18.5</td>\n",
       "    </tr>\n",
       "    <tr>\n",
       "      <th>5</th>\n",
       "      <td>180.8</td>\n",
       "      <td>10.8</td>\n",
       "      <td>58.4</td>\n",
       "      <td>12.9</td>\n",
       "    </tr>\n",
       "  </tbody>\n",
       "</table>\n",
       "</div>"
      ],
      "text/plain": [
       "      TV  Radio  Newspaper  Sales\n",
       "1  230.1   37.8       69.2   22.1\n",
       "2   44.5   39.3       45.1   10.4\n",
       "3   17.2   45.9       69.3    9.3\n",
       "4  151.5   41.3       58.5   18.5\n",
       "5  180.8   10.8       58.4   12.9"
      ]
     },
     "execution_count": 10,
     "metadata": {},
     "output_type": "execute_result"
    }
   ],
   "source": [
    "#1. \n",
    "import pandas as pd\n",
    "df = pd.read_csv(\"Advertising.csv\", index_col=0)\n",
    "\n",
    "print (\"Matrix Shape:\")\n",
    "print (df.shape)\n",
    "print (\"The first five rows:\")\n",
    "df[:5]\n",
    "\n"
   ]
  },
  {
   "cell_type": "code",
   "execution_count": 11,
   "metadata": {
    "collapsed": false
   },
   "outputs": [
    {
     "name": "stdout",
     "output_type": "stream",
     "text": [
      "TV and Sales: Relationship looks to be positive and linear which indicates that the TV data has good predictive power for Sales\n",
      "Radio and Sales: Relationship looks positive, but not linear\n",
      "Newspaper and Sales: Data points seem random, does not look like a strong relationship between Newspaper and Sales.\n"
     ]
    },
    {
     "data": {
      "image/png": "[encoded data removed]",
      "text/plain": [
       "<matplotlib.figure.Figure at 0x1f9ef791438>"
      ]
     },
     "metadata": {},
     "output_type": "display_data"
    },
    {
     "data": {
      "image/png": "[encoded data removed]",
      "text/plain": [
       "<matplotlib.figure.Figure at 0x1f9f14ae978>"
      ]
     },
     "metadata": {},
     "output_type": "display_data"
    },
    {
     "data": {
      "image/png": "[encoded data removed]",
      "text/plain": [
       "<matplotlib.figure.Figure at 0x1f9f1509908>"
      ]
     },
     "metadata": {},
     "output_type": "display_data"
    }
   ],
   "source": [
    "#2. \n",
    "\n",
    "import matplotlib.pyplot as plt\n",
    "import numpy as np\n",
    "import pandas as pd\n",
    "%matplotlib inline\n",
    "\n",
    "df.plot.scatter(x=\"TV\", y=\"Sales\")\n",
    "print (\"TV and Sales: Relationship looks to be positive and linear which indicates that the TV data has good predictive power for Sales\")\n",
    "df.plot.scatter(x=\"Radio\", y=\"Sales\")\n",
    "print (\"Radio and Sales: Relationship looks positive, but not linear\")\n",
    "df.plot.scatter(x=\"Newspaper\", y=\"Sales\")\n",
    "print (\"Newspaper and Sales: Data points seem random, does not look like a strong relationship between Newspaper and Sales.\")"
   ]
  },
  {
   "cell_type": "code",
   "execution_count": 12,
   "metadata": {
    "collapsed": false
   },
   "outputs": [
    {
     "name": "stdout",
     "output_type": "stream",
     "text": [
      "The linear regression coefficient for TV is 0.04754\n",
      "For a one unit change in TV advertising, there will be a positive change in Sales of 0.0475\n"
     ]
    }
   ],
   "source": [
    "#3. \n",
    "import matplotlib.pyplot as plt\n",
    "import numpy as np\n",
    "from sklearn import linear_model\n",
    "import pandas as pd\n",
    "\n",
    "regr = linear_model.LinearRegression(fit_intercept=True)\n",
    "data = df[[\"TV\", \"Sales\"]]\n",
    "TV = data.TV.reshape(len(data), 1)\n",
    "Sales = data.Sales.reshape(len(data), 1)\n",
    "# Build SLR model on TV and Sales\n",
    "fit = regr.fit(TV, Sales)\n",
    "\n",
    "print (\"The linear regression coefficient for TV is %.5f\" % (fit.coef_))\n",
    "print(\"For a one unit change in TV advertising, there will be a positive change in Sales of %.4f\" % (fit.coef_) )"
   ]
  },
  {
   "cell_type": "code",
   "execution_count": 13,
   "metadata": {
    "collapsed": false,
    "scrolled": true
   },
   "outputs": [
    {
     "name": "stdout",
     "output_type": "stream",
     "text": [
      "The MSE for Training Data is 2.0196\n",
      "The MSE for the Testing Data is 4.5944\n",
      "The coefficients for TV, Radio and Newspaper are below (respectively):\n",
      "[[ 0.04372003  0.1960867  -0.00325655]]\n"
     ]
    },
    {
     "data": {
      "text/plain": [
       "<matplotlib.collections.PathCollection at 0x1f9f1509240>"
      ]
     },
     "execution_count": 13,
     "metadata": {},
     "output_type": "execute_result"
    },
    {
     "data": {
      "image/png": "[encoded data removed]",
      "text/plain": [
       "<matplotlib.figure.Figure at 0x1f9eeff2a58>"
      ]
     },
     "metadata": {},
     "output_type": "display_data"
    }
   ],
   "source": [
    "\"\"\"Split the data randomly into a training and test set (keep 1/3rd of the data for test).\n",
    "\n",
    "    (4 pts) Fit an MLR on all the feature variables using the training data and evaluate the trained model on the test data using root mean squared error.\n",
    "    (2 pts) Report the MSE obtained on train data. How much does this increase when you score your model on test data?\n",
    "    (2 pts) Report the coefficients obtained by your model.\n",
    "    (4 pts) Do you think your MLR model is reasonable for this problem? You may look at the distribution of residuals to provide an informed answer.\n",
    "\n",
    "\"\"\"\n",
    "\n",
    "import numpy as np\n",
    "import matplotlib.pyplot as plt\n",
    "from sklearn import linear_model\n",
    "from sklearn.cross_validation import train_test_split\n",
    "from sklearn.metrics import mean_squared_error\n",
    "%matplotlib inline\n",
    "\n",
    "Ind = df[[\"TV\", \"Radio\", \"Newspaper\"]]\n",
    "Dep = df[[\"Sales\"]]\n",
    "\n",
    "#Step 1: Split the data randomly into a training and test set (keep 1/3rd of the data for test).\n",
    "Ind_Train, Ind_Test, Dep_Train, Dep_Test = train_test_split(Ind, Dep, test_size=0.33)\n",
    "\n",
    "#Step 2: Fit an MLR on all the feature variables using the training data\n",
    "MLR = linear_model.LinearRegression()\n",
    "MLR.fit(Ind_Train, Dep_Train)\n",
    "\n",
    "#Test data\n",
    "y_train = MLR.predict(Ind_Train)\n",
    "y_test = MLR.predict(Ind_Test)\n",
    "\n",
    "#MSE for Test and Training Data\n",
    "print (\"The MSE for Training Data is %.4f\" % mean_squared_error(Dep_Train, y_train))\n",
    "print(\"The MSE for the Testing Data is %.4f\" % mean_squared_error(Dep_Test, y_test))\n",
    "\n",
    "#Coefficients from Model\n",
    "print (\"The coefficients for TV, Radio and Newspaper are below (respectively):\" )\n",
    "print (MLR.coef_)\n",
    "\n",
    "#Plot of Residuals\n",
    "plt.scatter(Dep_Test, Dep_Test - y_test)\n"
   ]
  },
  {
   "cell_type": "markdown",
   "metadata": {},
   "source": [
    "Part 4. The plot of residuals is not randomly distributed around the mean (zero) which indicates that a multiple linear regression is not the best model for this data set."
   ]
  },
  {
   "cell_type": "markdown",
   "metadata": {},
   "source": [
    "\n",
    "# <p style=\"text-align: center;\">Assignment 2</p>"
   ]
  },
  {
   "cell_type": "markdown",
   "metadata": {
    "collapsed": true
   },
   "source": [
    "# Question 1: Sampling\n",
    "\n",
    "A recent survey estimated that $30\\%$ of all Europeans aged 20 to 22 have driven under the influence of drugs or alcohol, based on a simple \"Yes or No\" question. A similar survey is being planned for Americans. The survey designers want the  $90\\%$ confidence interval to have a margin of error of at most $\\pm0.09$.\n",
    "\n",
    "(a) Find the necessary sample size needed to conduct this survey assuming that the expected percentage of \"yes\" answers will be very close to that obtained from the European survey?\n",
    "\n",
    "(b) Suppose the tolerance level was kept the same but the confidence level needs to increase to $95\\%$. What is the required sample size for this new specification?\n",
    "\n",
    "(c) If one does not know where the true \"$p$\" may lie, one can conservatively conduct a survey assuming the worst case (in terms of required minimum sample size)  scenario of  $p = 0.5$. Redo part (b) for this \"worst case\" scenario."
   ]
  },
  {
   "cell_type": "markdown",
   "metadata": {},
   "source": [
    "## Part A\n",
    "\n",
    "\n",
    "<p style=\"text-align: center;\">$\\hat{p}$ = 0.30</p>\n",
    "\n",
    "<p style=\"text-align: center;\">$\\alpha = 0.10$</p>\n",
    "\n",
    "<p style=\"text-align: center;\">$Z_{\\alpha/2} = 1.65$</p>\n",
    "\n",
    "<p style=\"text-align: center;\">$\\epsilon = 0.09$</p>\n",
    "\n",
    "<p style=\"text-align: center;\">$n >= 0.3(1-0.3)(1.65/0.09)^2$</p>\n",
    "\n",
    "<p style=\"text-align: center;\">$n >=(0.21)(336.11)$</p>\n",
    "\n",
    "<p style=\"text-align: center;\">n >=70.58</p>"
   ]
  },
  {
   "cell_type": "markdown",
   "metadata": {},
   "source": [
    "## Part B\n",
    "\n",
    "\n",
    "<p style=\"text-align: center;\">$\\hat{p}$ = 0.30</p>\n",
    "\n",
    "<p style=\"text-align: center;\">$\\alpha = 0.05$</p>\n",
    "\n",
    "<p style=\"text-align: center;\">$Z_{\\alpha/2} = 1.96$</p>\n",
    "\n",
    "<p style=\"text-align: center;\">$\\epsilon = 0.09$</p>\n",
    "\n",
    "<p style=\"text-align: center;\">$n >= 0.3(1-0.3)(1.96/0.09)^2$</p>\n",
    "\n",
    "<p style=\"text-align: center;\">$n >=(0.21)(474.27)$</p>\n",
    "\n",
    "<p style=\"text-align: center;\">n >=99.59</p>"
   ]
  },
  {
   "cell_type": "markdown",
   "metadata": {},
   "source": [
    "## Part C\n",
    "\n",
    "\n",
    "<p style=\"text-align: center;\">$\\hat{p}$ = 0.50</p>\n",
    "\n",
    "<p style=\"text-align: center;\">$\\alpha = 0.05$</p>\n",
    "\n",
    "<p style=\"text-align: center;\">$Z_{\\alpha/2} = 1.96$</p>\n",
    "\n",
    "<p style=\"text-align: center;\">$\\epsilon = 0.09$</p>\n",
    "\n",
    "<p style=\"text-align: center;\">$n >= 0.5(1-0.5)(1.96/0.09)^2$</p>\n",
    "\n",
    "<p style=\"text-align: center;\">$n >=(0.25)(474.27)$</p>\n",
    "\n",
    "<p style=\"text-align: center;\">n >=118.57</p>"
   ]
  },
  {
   "cell_type": "code",
   "execution_count": null,
   "metadata": {
    "collapsed": true
   },
   "outputs": [],
   "source": []
  }
 ],
 "metadata": {
  "anaconda-cloud": {},
  "kernelspec": {
   "display_name": "Python [Root]",
   "language": "python",
   "name": "Python [Root]"
  },
  "language_info": {
   "codemirror_mode": {
    "name": "ipython",
    "version": 3
   },
   "file_extension": ".py",
   "mimetype": "text/x-python",
   "name": "python",
   "nbconvert_exporter": "python",
   "pygments_lexer": "ipython3",
   "version": "3.5.2"
  }
 },
 "nbformat": 4,
 "nbformat_minor": 0
}
