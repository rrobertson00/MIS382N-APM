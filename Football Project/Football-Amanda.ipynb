{
 "cells": [
  {
   "cell_type": "code",
   "execution_count": 1,
   "metadata": {
    "collapsed": false
   },
   "outputs": [
    {
     "name": "stderr",
     "output_type": "stream",
     "text": [
      "C:\\Users\\amand\\Anaconda2\\lib\\site-packages\\sklearn\\cross_validation.py:44: DeprecationWarning: This module was deprecated in version 0.18 in favor of the model_selection module into which all the refactored classes and functions are moved. Also note that the interface of the new CV iterators are different from that of this module. This module will be removed in 0.20.\n",
      "  \"This module will be removed in 0.20.\", DeprecationWarning)\n"
     ]
    }
   ],
   "source": [
    "from pandas import Series\n",
    "import pandas as pd\n",
    "import numpy as np\n",
    "import matplotlib.pyplot as plt\n",
    "from sklearn.decomposition import PCA\n",
    "from sklearn.cluster import KMeans\n",
    "from sklearn.metrics.pairwise import pairwise_distances_argmin\n",
    "from sklearn.model_selection import train_test_split\n",
    "from sklearn import cross_validation, linear_model \n",
    "from sklearn.metrics import mean_squared_error, accuracy_score\n",
    "from sklearn.linear_model import LinearRegression, RidgeCV, LassoCV\n",
    "%matplotlib inline"
   ]
  },
  {
   "cell_type": "markdown",
   "metadata": {},
   "source": [
    "Read in csv file"
   ]
  },
  {
   "cell_type": "code",
   "execution_count": 2,
   "metadata": {
    "collapsed": false
   },
   "outputs": [
    {
     "data": {
      "text/html": [
       "<div>\n",
       "<table border=\"1\" class=\"dataframe\">\n",
       "  <thead>\n",
       "    <tr style=\"text-align: right;\">\n",
       "      <th></th>\n",
       "      <th>Unnamed: 0</th>\n",
       "      <th>Date</th>\n",
       "      <th>GameID</th>\n",
       "      <th>Drive</th>\n",
       "      <th>qtr</th>\n",
       "      <th>down</th>\n",
       "      <th>time</th>\n",
       "      <th>TimeUnder</th>\n",
       "      <th>TimeSecs</th>\n",
       "      <th>PlayTimeDiff</th>\n",
       "      <th>...</th>\n",
       "      <th>Accepted.Penalty</th>\n",
       "      <th>PenalizedTeam</th>\n",
       "      <th>PenaltyType</th>\n",
       "      <th>PenalizedPlayer</th>\n",
       "      <th>Penalty.Yards</th>\n",
       "      <th>PosTeamScore</th>\n",
       "      <th>DefTeamScore</th>\n",
       "      <th>ScoreDiff</th>\n",
       "      <th>AbsScoreDiff</th>\n",
       "      <th>Season</th>\n",
       "    </tr>\n",
       "  </thead>\n",
       "  <tbody>\n",
       "    <tr>\n",
       "      <th>0</th>\n",
       "      <td>36.0</td>\n",
       "      <td>9/10/2015</td>\n",
       "      <td>2.015091e+09</td>\n",
       "      <td>1.0</td>\n",
       "      <td>1.0</td>\n",
       "      <td>NaN</td>\n",
       "      <td>15:00</td>\n",
       "      <td>15.0</td>\n",
       "      <td>3600.0</td>\n",
       "      <td>0.0</td>\n",
       "      <td>...</td>\n",
       "      <td>0.0</td>\n",
       "      <td>NaN</td>\n",
       "      <td>NaN</td>\n",
       "      <td>NaN</td>\n",
       "      <td>0.0</td>\n",
       "      <td>0.0</td>\n",
       "      <td>0.0</td>\n",
       "      <td>0.0</td>\n",
       "      <td>0.0</td>\n",
       "      <td>2015.0</td>\n",
       "    </tr>\n",
       "    <tr>\n",
       "      <th>1</th>\n",
       "      <td>51.0</td>\n",
       "      <td>9/10/2015</td>\n",
       "      <td>2.015091e+09</td>\n",
       "      <td>1.0</td>\n",
       "      <td>1.0</td>\n",
       "      <td>1.0</td>\n",
       "      <td>15:00</td>\n",
       "      <td>15.0</td>\n",
       "      <td>3600.0</td>\n",
       "      <td>0.0</td>\n",
       "      <td>...</td>\n",
       "      <td>0.0</td>\n",
       "      <td>NaN</td>\n",
       "      <td>NaN</td>\n",
       "      <td>NaN</td>\n",
       "      <td>0.0</td>\n",
       "      <td>0.0</td>\n",
       "      <td>0.0</td>\n",
       "      <td>0.0</td>\n",
       "      <td>0.0</td>\n",
       "      <td>2015.0</td>\n",
       "    </tr>\n",
       "    <tr>\n",
       "      <th>2</th>\n",
       "      <td>72.0</td>\n",
       "      <td>9/10/2015</td>\n",
       "      <td>2.015091e+09</td>\n",
       "      <td>1.0</td>\n",
       "      <td>1.0</td>\n",
       "      <td>1.0</td>\n",
       "      <td>14:21</td>\n",
       "      <td>15.0</td>\n",
       "      <td>3561.0</td>\n",
       "      <td>39.0</td>\n",
       "      <td>...</td>\n",
       "      <td>0.0</td>\n",
       "      <td>NaN</td>\n",
       "      <td>NaN</td>\n",
       "      <td>NaN</td>\n",
       "      <td>0.0</td>\n",
       "      <td>0.0</td>\n",
       "      <td>0.0</td>\n",
       "      <td>0.0</td>\n",
       "      <td>0.0</td>\n",
       "      <td>2015.0</td>\n",
       "    </tr>\n",
       "    <tr>\n",
       "      <th>3</th>\n",
       "      <td>101.0</td>\n",
       "      <td>9/10/2015</td>\n",
       "      <td>2.015091e+09</td>\n",
       "      <td>1.0</td>\n",
       "      <td>1.0</td>\n",
       "      <td>2.0</td>\n",
       "      <td>14:04</td>\n",
       "      <td>15.0</td>\n",
       "      <td>3544.0</td>\n",
       "      <td>17.0</td>\n",
       "      <td>...</td>\n",
       "      <td>0.0</td>\n",
       "      <td>NaN</td>\n",
       "      <td>NaN</td>\n",
       "      <td>NaN</td>\n",
       "      <td>0.0</td>\n",
       "      <td>0.0</td>\n",
       "      <td>0.0</td>\n",
       "      <td>0.0</td>\n",
       "      <td>0.0</td>\n",
       "      <td>2015.0</td>\n",
       "    </tr>\n",
       "    <tr>\n",
       "      <th>4</th>\n",
       "      <td>122.0</td>\n",
       "      <td>9/10/2015</td>\n",
       "      <td>2.015091e+09</td>\n",
       "      <td>1.0</td>\n",
       "      <td>1.0</td>\n",
       "      <td>1.0</td>\n",
       "      <td>13:26</td>\n",
       "      <td>14.0</td>\n",
       "      <td>3506.0</td>\n",
       "      <td>38.0</td>\n",
       "      <td>...</td>\n",
       "      <td>0.0</td>\n",
       "      <td>NaN</td>\n",
       "      <td>NaN</td>\n",
       "      <td>NaN</td>\n",
       "      <td>0.0</td>\n",
       "      <td>0.0</td>\n",
       "      <td>0.0</td>\n",
       "      <td>0.0</td>\n",
       "      <td>0.0</td>\n",
       "      <td>2015.0</td>\n",
       "    </tr>\n",
       "  </tbody>\n",
       "</table>\n",
       "<p>5 rows × 66 columns</p>\n",
       "</div>"
      ],
      "text/plain": [
       "   Unnamed: 0       Date        GameID  Drive  qtr  down   time  TimeUnder  \\\n",
       "0        36.0  9/10/2015  2.015091e+09    1.0  1.0   NaN  15:00       15.0   \n",
       "1        51.0  9/10/2015  2.015091e+09    1.0  1.0   1.0  15:00       15.0   \n",
       "2        72.0  9/10/2015  2.015091e+09    1.0  1.0   1.0  14:21       15.0   \n",
       "3       101.0  9/10/2015  2.015091e+09    1.0  1.0   2.0  14:04       15.0   \n",
       "4       122.0  9/10/2015  2.015091e+09    1.0  1.0   1.0  13:26       14.0   \n",
       "\n",
       "   TimeSecs  PlayTimeDiff   ...   Accepted.Penalty  PenalizedTeam  \\\n",
       "0    3600.0           0.0   ...                0.0            NaN   \n",
       "1    3600.0           0.0   ...                0.0            NaN   \n",
       "2    3561.0          39.0   ...                0.0            NaN   \n",
       "3    3544.0          17.0   ...                0.0            NaN   \n",
       "4    3506.0          38.0   ...                0.0            NaN   \n",
       "\n",
       "   PenaltyType  PenalizedPlayer  Penalty.Yards  PosTeamScore  DefTeamScore  \\\n",
       "0          NaN              NaN            0.0           0.0           0.0   \n",
       "1          NaN              NaN            0.0           0.0           0.0   \n",
       "2          NaN              NaN            0.0           0.0           0.0   \n",
       "3          NaN              NaN            0.0           0.0           0.0   \n",
       "4          NaN              NaN            0.0           0.0           0.0   \n",
       "\n",
       "  ScoreDiff AbsScoreDiff  Season  \n",
       "0       0.0          0.0  2015.0  \n",
       "1       0.0          0.0  2015.0  \n",
       "2       0.0          0.0  2015.0  \n",
       "3       0.0          0.0  2015.0  \n",
       "4       0.0          0.0  2015.0  \n",
       "\n",
       "[5 rows x 66 columns]"
      ]
     },
     "execution_count": 2,
     "metadata": {},
     "output_type": "execute_result"
    }
   ],
   "source": [
    "data = pd.read_csv(\"NFLPlaybyPlay2015.csv\", dtype={'DefTwoPoint': str}, na_values=['NA'])\n",
    "data.head()"
   ]
  },
  {
   "cell_type": "markdown",
   "metadata": {},
   "source": [
    "Create dummy variables for categorical values"
   ]
  },
  {
   "cell_type": "code",
   "execution_count": 3,
   "metadata": {
    "collapsed": false
   },
   "outputs": [],
   "source": [
    "df = data.copy()\n",
    "\n",
    "#Extra Point\n",
    "df['ExPointAborted'] = pd.get_dummies(df['ExPointResult'])[\"Aborted\"]\n",
    "df['ExPointMade']= pd.get_dummies(df['ExPointResult'])[\"Made\"]\n",
    "df['ExPointMissed']= pd.get_dummies(df['ExPointResult'])[\"Missed\"]\n",
    "\n",
    "#Two Point Conv\n",
    "df['TwoPointSuc']= pd.get_dummies(df['TwoPointConv'])[\"Success\"]\n",
    "df['TwoPointFail']= pd.get_dummies(df['TwoPointConv'])[\"Failure\"]\n",
    "\n",
    "#Defense Two Point\n",
    "df['DefTwoPointSuc']= pd.get_dummies(df['DefTwoPoint'])[\"Success\"]\n",
    "df['DefTwoPointFail']= pd.get_dummies(df['DefTwoPoint'])[\"Failure\"]\n",
    "\n",
    "# Punt Result\n",
    "df['PuntResultClean']= pd.get_dummies(df['PuntResult'])[\"Clean\"]\n",
    "df['PuntResultBlocked']= pd.get_dummies(df['PuntResult'])[\"Blocked\"]\n",
    "\n",
    "#Play Type\n",
    "df['KickoffPlay']= pd.get_dummies(df['PlayType'])[\"Kickoff\"]\n",
    "df['RunPlay']= pd.get_dummies(df['PlayType'])[\"Run\"]\n",
    "df['PassPlay']= pd.get_dummies(df['PlayType'])[\"Pass\"]\n",
    "df['SackPlay']= pd.get_dummies(df['PlayType'])[\"Sack\"]\n",
    "df['NoPlay']= pd.get_dummies(df['PlayType'])[\"No Play\"]\n",
    "df['FieldGoalPlay']= pd.get_dummies(df['PlayType'])[\"Field Goal\"]\n",
    "df['PuntPlay']= pd.get_dummies(df['PlayType'])[\"Punt\"]\n",
    "df['ExtraPointPlay']= pd.get_dummies(df['PlayType'])[\"Extra Point\"]\n",
    "df['QBKneelPlay']= pd.get_dummies(df['PlayType'])[\"QB Kneel\"]\n",
    "df['SpikePlay']= pd.get_dummies(df['PlayType'])[\"Spike\"]\n",
    "df['OnsideKickPlay']= pd.get_dummies(df['PlayType'])[\"Onside Kick\"]\n",
    "\n",
    "#Pass Outcome\n",
    "df['CompletedPass']= pd.get_dummies(df['PassOutcome'])[\"Complete\"]\n",
    "df['IncompletePass']= pd.get_dummies(df['PassOutcome'])[\"Incomplete Pass\"]\n",
    "\n",
    "#Side of Field\n",
    "df[\"OffenseSide\"] = (df[\"SideofField\"] == df[\"posteam\"])\n",
    "\n",
    "#Pass Length\n",
    "df[\"ShortPass\"] = pd.get_dummies(df['PassLength'])[\"Short\"]\n",
    "df[\"DeepPass\"] = pd.get_dummies(df['PassLength'])[\"Deep\"]\n",
    "\n",
    "#Pass Location\n",
    "df[\"LeftPass\"]= pd.get_dummies(df['PassLocation'])[\"left\"]\n",
    "df[\"MiddlePass\"]= pd.get_dummies(df['PassLocation'])[\"middle\"]\n",
    "df[\"RightPass\"]= pd.get_dummies(df['PassLocation'])[\"right\"]\n",
    "\n",
    "#Run Location\n",
    "df[\"LeftRun\"]= pd.get_dummies(df['RunLocation'])[\"left\"]\n",
    "df[\"MiddleRun\"]= pd.get_dummies(df['RunLocation'])[\"middle\"]\n",
    "df[\"RightRun\"]= pd.get_dummies(df['RunLocation'])[\"right\"]\n",
    "\n",
    "#Run Gap\n",
    "df[\"RunGapEnd\"]= pd.get_dummies(df['RunGap'])[\"end\"]\n",
    "df[\"RunGapGuard\"]= pd.get_dummies(df['RunGap'])[\"guard\"]\n",
    "df[\"RunGapTackle\"]= pd.get_dummies(df['RunGap'])[\"tackle\"]\n",
    "\n",
    "#Return Result\n",
    "df[\"ReturnResultTD\"]= pd.get_dummies(df['ReturnResult'])[\"Touchdown\"]\n",
    "df[\"ReturnResultTouch\"]= pd.get_dummies(df['ReturnResult'])[\"Touchback\"]\n",
    "\n",
    "#Offense Fumble Recovery\n",
    "df[\"OffFumbleRecover\"] = (df[\"RecFumbTeam\"] == df[\"posteam\"])\n",
    "\n",
    "#Challenge Result\n",
    "df[\"ChalOverturned\"]= pd.get_dummies(df['ChalReplayResult'])[\"Reversed\"]\n",
    "df[\"ChalAccept\"]= pd.get_dummies(df['ChalReplayResult'])[\"Upheld\"]\n",
    "\n",
    "#Penalty\n",
    "df[\"OffPenalty\"] = (df[\"PenalizedTeam\"] == df[\"posteam\"])"
   ]
  },
  {
   "cell_type": "markdown",
   "metadata": {},
   "source": [
    "Drop rows without relevent data (i.e. posteam, defensive team, etc)"
   ]
  },
  {
   "cell_type": "code",
   "execution_count": 4,
   "metadata": {
    "collapsed": false
   },
   "outputs": [],
   "source": [
    "df = df.drop(df[df['PlayType'] == \"Quarter End\"].index)\n",
    "df = df.drop(df[df['PlayType'] == \"Two Minute Warning\"].index)\n",
    "df = df.drop(df[df['PlayType'] == \"Timeout\"].index)\n",
    "df = df.drop(df[df['PlayType'] == \"End of Game\"].index)\n",
    "df = df.drop(df[df['PlayType'] == \"Half End\"].index)"
   ]
  },
  {
   "cell_type": "markdown",
   "metadata": {},
   "source": [
    "Check for Null values"
   ]
  },
  {
   "cell_type": "code",
   "execution_count": 5,
   "metadata": {
    "collapsed": false
   },
   "outputs": [
    {
     "data": {
      "text/html": [
       "<div>\n",
       "<table border=\"1\" class=\"dataframe\">\n",
       "  <thead>\n",
       "    <tr style=\"text-align: right;\">\n",
       "      <th></th>\n",
       "      <th>Unnamed: 0</th>\n",
       "      <th>Date</th>\n",
       "      <th>GameID</th>\n",
       "      <th>Drive</th>\n",
       "      <th>qtr</th>\n",
       "      <th>down</th>\n",
       "      <th>time</th>\n",
       "      <th>TimeUnder</th>\n",
       "      <th>TimeSecs</th>\n",
       "      <th>PlayTimeDiff</th>\n",
       "      <th>...</th>\n",
       "      <th>RightRun</th>\n",
       "      <th>RunGapEnd</th>\n",
       "      <th>RunGapGuard</th>\n",
       "      <th>RunGapTackle</th>\n",
       "      <th>ReturnResultTD</th>\n",
       "      <th>ReturnResultTouch</th>\n",
       "      <th>OffFumbleRecover</th>\n",
       "      <th>ChalOverturned</th>\n",
       "      <th>ChalAccept</th>\n",
       "      <th>OffPenalty</th>\n",
       "    </tr>\n",
       "  </thead>\n",
       "  <tbody>\n",
       "  </tbody>\n",
       "</table>\n",
       "<p>0 rows × 106 columns</p>\n",
       "</div>"
      ],
      "text/plain": [
       "Empty DataFrame\n",
       "Columns: [Unnamed: 0, Date, GameID, Drive, qtr, down, time, TimeUnder, TimeSecs, PlayTimeDiff, SideofField, yrdln, yrdline100, ydstogo, ydsnet, GoalToGo, FirstDown, posteam, DefensiveTeam, desc, PlayAttempted, Yards.Gained, sp, Touchdown, ExPointResult, TwoPointConv, DefTwoPoint, Safety, PuntResult, PlayType, Passer, PassAttempt, PassOutcome, PassLength, PassLocation, InterceptionThrown, Interceptor, Rusher, RushAttempt, RunLocation, RunGap, Receiver, Reception, ReturnResult, Returner, BlockingPlayer, Tackler1, Tackler2, FieldGoalResult, FieldGoalDistance, Fumble, RecFumbTeam, RecFumbPlayer, Sack, Challenge.Replay, ChalReplayResult, Accepted.Penalty, PenalizedTeam, PenaltyType, PenalizedPlayer, Penalty.Yards, PosTeamScore, DefTeamScore, ScoreDiff, AbsScoreDiff, Season, ExPointAborted, ExPointMade, ExPointMissed, TwoPointSuc, TwoPointFail, DefTwoPointSuc, DefTwoPointFail, PuntResultClean, PuntResultBlocked, KickoffPlay, RunPlay, PassPlay, SackPlay, NoPlay, FieldGoalPlay, PuntPlay, ExtraPointPlay, QBKneelPlay, SpikePlay, OnsideKickPlay, CompletedPass, IncompletePass, OffenseSide, ShortPass, DeepPass, LeftPass, MiddlePass, RightPass, LeftRun, MiddleRun, RightRun, RunGapEnd, RunGapGuard, RunGapTackle, ...]\n",
       "Index: []\n",
       "\n",
       "[0 rows x 106 columns]"
      ]
     },
     "execution_count": 5,
     "metadata": {},
     "output_type": "execute_result"
    }
   ],
   "source": [
    "df[df[\"posteam\"].isnull()]"
   ]
  },
  {
   "cell_type": "markdown",
   "metadata": {},
   "source": [
    "Isolate needed columns"
   ]
  },
  {
   "cell_type": "code",
   "execution_count": 6,
   "metadata": {
    "collapsed": false
   },
   "outputs": [],
   "source": [
    "df = df[['posteam', 'DefensiveTeam', 'PosTeamScore', 'ScoreDiff', 'Accepted.Penalty', 'Challenge.Replay',\n",
    "         \"ChalOverturned\", \"ChalAccept\", 'OffPenalty', \n",
    "         'DefTeamScore', 'Yards.Gained', 'sp', 'Touchdown', 'Safety','ExPointAborted', 'ExPointMade', \n",
    "         'ExPointMissed', 'TwoPointSuc', 'TwoPointFail', 'DefTwoPointSuc', 'DefTwoPointFail', \n",
    "         'PuntResultClean', 'PuntResultBlocked',  'KickoffPlay', 'RunPlay', 'PassPlay', 'SackPlay', \n",
    "         'NoPlay', 'IncompletePass', 'CompletedPass', 'FieldGoalPlay', 'PuntPlay', 'ExtraPointPlay', \n",
    "         'ydsnet', \"ShortPass\", \"DeepPass\", 'QBKneelPlay', 'SpikePlay', 'OnsideKickPlay', \n",
    "         'PassAttempt', 'OffenseSide', \"LeftPass\", \"MiddlePass\", \"RightPass\", 'Reception', \n",
    "         \"InterceptionThrown\", \"LeftRun\", \"MiddleRun\", \"RightRun\", \"RunGapEnd\", \"RunGapGuard\", \n",
    "         \"RunGapTackle\", \"ReturnResultTD\", \"ReturnResultTouch\", \"Fumble\", ]]"
   ]
  },
  {
   "cell_type": "markdown",
   "metadata": {},
   "source": [
    "DataFrame with only required data"
   ]
  },
  {
   "cell_type": "code",
   "execution_count": 7,
   "metadata": {
    "collapsed": false
   },
   "outputs": [
    {
     "data": {
      "text/html": [
       "<div>\n",
       "<table border=\"1\" class=\"dataframe\">\n",
       "  <thead>\n",
       "    <tr style=\"text-align: right;\">\n",
       "      <th></th>\n",
       "      <th>posteam</th>\n",
       "      <th>DefensiveTeam</th>\n",
       "      <th>PosTeamScore</th>\n",
       "      <th>ScoreDiff</th>\n",
       "      <th>Accepted.Penalty</th>\n",
       "      <th>Challenge.Replay</th>\n",
       "      <th>ChalOverturned</th>\n",
       "      <th>ChalAccept</th>\n",
       "      <th>OffPenalty</th>\n",
       "      <th>DefTeamScore</th>\n",
       "      <th>...</th>\n",
       "      <th>InterceptionThrown</th>\n",
       "      <th>LeftRun</th>\n",
       "      <th>MiddleRun</th>\n",
       "      <th>RightRun</th>\n",
       "      <th>RunGapEnd</th>\n",
       "      <th>RunGapGuard</th>\n",
       "      <th>RunGapTackle</th>\n",
       "      <th>ReturnResultTD</th>\n",
       "      <th>ReturnResultTouch</th>\n",
       "      <th>Fumble</th>\n",
       "    </tr>\n",
       "  </thead>\n",
       "  <tbody>\n",
       "    <tr>\n",
       "      <th>0</th>\n",
       "      <td>PIT</td>\n",
       "      <td>NE</td>\n",
       "      <td>0.0</td>\n",
       "      <td>0.0</td>\n",
       "      <td>0.0</td>\n",
       "      <td>0.0</td>\n",
       "      <td>0.0</td>\n",
       "      <td>0.0</td>\n",
       "      <td>False</td>\n",
       "      <td>0.0</td>\n",
       "      <td>...</td>\n",
       "      <td>0.0</td>\n",
       "      <td>0.0</td>\n",
       "      <td>0.0</td>\n",
       "      <td>0.0</td>\n",
       "      <td>0.0</td>\n",
       "      <td>0.0</td>\n",
       "      <td>0.0</td>\n",
       "      <td>0.0</td>\n",
       "      <td>1.0</td>\n",
       "      <td>0.0</td>\n",
       "    </tr>\n",
       "    <tr>\n",
       "      <th>1</th>\n",
       "      <td>PIT</td>\n",
       "      <td>NE</td>\n",
       "      <td>0.0</td>\n",
       "      <td>0.0</td>\n",
       "      <td>0.0</td>\n",
       "      <td>0.0</td>\n",
       "      <td>0.0</td>\n",
       "      <td>0.0</td>\n",
       "      <td>False</td>\n",
       "      <td>0.0</td>\n",
       "      <td>...</td>\n",
       "      <td>0.0</td>\n",
       "      <td>0.0</td>\n",
       "      <td>0.0</td>\n",
       "      <td>1.0</td>\n",
       "      <td>0.0</td>\n",
       "      <td>0.0</td>\n",
       "      <td>1.0</td>\n",
       "      <td>0.0</td>\n",
       "      <td>0.0</td>\n",
       "      <td>0.0</td>\n",
       "    </tr>\n",
       "    <tr>\n",
       "      <th>2</th>\n",
       "      <td>PIT</td>\n",
       "      <td>NE</td>\n",
       "      <td>0.0</td>\n",
       "      <td>0.0</td>\n",
       "      <td>0.0</td>\n",
       "      <td>0.0</td>\n",
       "      <td>0.0</td>\n",
       "      <td>0.0</td>\n",
       "      <td>False</td>\n",
       "      <td>0.0</td>\n",
       "      <td>...</td>\n",
       "      <td>0.0</td>\n",
       "      <td>0.0</td>\n",
       "      <td>0.0</td>\n",
       "      <td>0.0</td>\n",
       "      <td>0.0</td>\n",
       "      <td>0.0</td>\n",
       "      <td>0.0</td>\n",
       "      <td>0.0</td>\n",
       "      <td>0.0</td>\n",
       "      <td>0.0</td>\n",
       "    </tr>\n",
       "    <tr>\n",
       "      <th>3</th>\n",
       "      <td>PIT</td>\n",
       "      <td>NE</td>\n",
       "      <td>0.0</td>\n",
       "      <td>0.0</td>\n",
       "      <td>0.0</td>\n",
       "      <td>0.0</td>\n",
       "      <td>0.0</td>\n",
       "      <td>0.0</td>\n",
       "      <td>False</td>\n",
       "      <td>0.0</td>\n",
       "      <td>...</td>\n",
       "      <td>0.0</td>\n",
       "      <td>0.0</td>\n",
       "      <td>0.0</td>\n",
       "      <td>1.0</td>\n",
       "      <td>0.0</td>\n",
       "      <td>1.0</td>\n",
       "      <td>0.0</td>\n",
       "      <td>0.0</td>\n",
       "      <td>0.0</td>\n",
       "      <td>0.0</td>\n",
       "    </tr>\n",
       "    <tr>\n",
       "      <th>4</th>\n",
       "      <td>PIT</td>\n",
       "      <td>NE</td>\n",
       "      <td>0.0</td>\n",
       "      <td>0.0</td>\n",
       "      <td>0.0</td>\n",
       "      <td>0.0</td>\n",
       "      <td>0.0</td>\n",
       "      <td>0.0</td>\n",
       "      <td>False</td>\n",
       "      <td>0.0</td>\n",
       "      <td>...</td>\n",
       "      <td>0.0</td>\n",
       "      <td>0.0</td>\n",
       "      <td>0.0</td>\n",
       "      <td>0.0</td>\n",
       "      <td>0.0</td>\n",
       "      <td>0.0</td>\n",
       "      <td>0.0</td>\n",
       "      <td>0.0</td>\n",
       "      <td>0.0</td>\n",
       "      <td>0.0</td>\n",
       "    </tr>\n",
       "  </tbody>\n",
       "</table>\n",
       "<p>5 rows × 55 columns</p>\n",
       "</div>"
      ],
      "text/plain": [
       "  posteam DefensiveTeam  PosTeamScore  ScoreDiff  Accepted.Penalty  \\\n",
       "0     PIT            NE           0.0        0.0               0.0   \n",
       "1     PIT            NE           0.0        0.0               0.0   \n",
       "2     PIT            NE           0.0        0.0               0.0   \n",
       "3     PIT            NE           0.0        0.0               0.0   \n",
       "4     PIT            NE           0.0        0.0               0.0   \n",
       "\n",
       "   Challenge.Replay  ChalOverturned  ChalAccept OffPenalty  DefTeamScore  \\\n",
       "0               0.0             0.0         0.0      False           0.0   \n",
       "1               0.0             0.0         0.0      False           0.0   \n",
       "2               0.0             0.0         0.0      False           0.0   \n",
       "3               0.0             0.0         0.0      False           0.0   \n",
       "4               0.0             0.0         0.0      False           0.0   \n",
       "\n",
       "    ...    InterceptionThrown  LeftRun  MiddleRun  RightRun  RunGapEnd  \\\n",
       "0   ...                   0.0      0.0        0.0       0.0        0.0   \n",
       "1   ...                   0.0      0.0        0.0       1.0        0.0   \n",
       "2   ...                   0.0      0.0        0.0       0.0        0.0   \n",
       "3   ...                   0.0      0.0        0.0       1.0        0.0   \n",
       "4   ...                   0.0      0.0        0.0       0.0        0.0   \n",
       "\n",
       "   RunGapGuard  RunGapTackle  ReturnResultTD  ReturnResultTouch  Fumble  \n",
       "0          0.0           0.0             0.0                1.0     0.0  \n",
       "1          0.0           1.0             0.0                0.0     0.0  \n",
       "2          0.0           0.0             0.0                0.0     0.0  \n",
       "3          1.0           0.0             0.0                0.0     0.0  \n",
       "4          0.0           0.0             0.0                0.0     0.0  \n",
       "\n",
       "[5 rows x 55 columns]"
      ]
     },
     "execution_count": 7,
     "metadata": {},
     "output_type": "execute_result"
    }
   ],
   "source": [
    "df.head()"
   ]
  },
  {
   "cell_type": "markdown",
   "metadata": {},
   "source": [
    "## Cluster teams"
   ]
  },
  {
   "cell_type": "markdown",
   "metadata": {},
   "source": [
    "Groupby Teams"
   ]
  },
  {
   "cell_type": "code",
   "execution_count": 8,
   "metadata": {
    "collapsed": false
   },
   "outputs": [
    {
     "data": {
      "text/html": [
       "<div>\n",
       "<table border=\"1\" class=\"dataframe\">\n",
       "  <thead>\n",
       "    <tr style=\"text-align: right;\">\n",
       "      <th></th>\n",
       "      <th>PosTeamScore</th>\n",
       "      <th>ScoreDiff</th>\n",
       "      <th>Accepted.Penalty</th>\n",
       "      <th>Challenge.Replay</th>\n",
       "      <th>ChalOverturned</th>\n",
       "      <th>ChalAccept</th>\n",
       "      <th>OffPenalty</th>\n",
       "      <th>DefTeamScore</th>\n",
       "      <th>Yards.Gained</th>\n",
       "      <th>sp</th>\n",
       "      <th>...</th>\n",
       "      <th>InterceptionThrown</th>\n",
       "      <th>LeftRun</th>\n",
       "      <th>MiddleRun</th>\n",
       "      <th>RightRun</th>\n",
       "      <th>RunGapEnd</th>\n",
       "      <th>RunGapGuard</th>\n",
       "      <th>RunGapTackle</th>\n",
       "      <th>ReturnResultTD</th>\n",
       "      <th>ReturnResultTouch</th>\n",
       "      <th>Fumble</th>\n",
       "    </tr>\n",
       "    <tr>\n",
       "      <th>posteam</th>\n",
       "      <th></th>\n",
       "      <th></th>\n",
       "      <th></th>\n",
       "      <th></th>\n",
       "      <th></th>\n",
       "      <th></th>\n",
       "      <th></th>\n",
       "      <th></th>\n",
       "      <th></th>\n",
       "      <th></th>\n",
       "      <th></th>\n",
       "      <th></th>\n",
       "      <th></th>\n",
       "      <th></th>\n",
       "      <th></th>\n",
       "      <th></th>\n",
       "      <th></th>\n",
       "      <th></th>\n",
       "      <th></th>\n",
       "      <th></th>\n",
       "      <th></th>\n",
       "    </tr>\n",
       "  </thead>\n",
       "  <tbody>\n",
       "    <tr>\n",
       "      <th>ARI</th>\n",
       "      <td>19791.0</td>\n",
       "      <td>6444.0</td>\n",
       "      <td>114.0</td>\n",
       "      <td>13.0</td>\n",
       "      <td>6.0</td>\n",
       "      <td>7.0</td>\n",
       "      <td>50.0</td>\n",
       "      <td>13347.0</td>\n",
       "      <td>7924.0</td>\n",
       "      <td>128.0</td>\n",
       "      <td>...</td>\n",
       "      <td>14.0</td>\n",
       "      <td>134.0</td>\n",
       "      <td>146.0</td>\n",
       "      <td>141.0</td>\n",
       "      <td>88.0</td>\n",
       "      <td>50.0</td>\n",
       "      <td>145.0</td>\n",
       "      <td>2.0</td>\n",
       "      <td>46.0</td>\n",
       "      <td>21.0</td>\n",
       "    </tr>\n",
       "    <tr>\n",
       "      <th>ATL</th>\n",
       "      <td>12326.0</td>\n",
       "      <td>-2723.0</td>\n",
       "      <td>103.0</td>\n",
       "      <td>11.0</td>\n",
       "      <td>4.0</td>\n",
       "      <td>7.0</td>\n",
       "      <td>53.0</td>\n",
       "      <td>15049.0</td>\n",
       "      <td>7306.0</td>\n",
       "      <td>96.0</td>\n",
       "      <td>...</td>\n",
       "      <td>18.0</td>\n",
       "      <td>182.0</td>\n",
       "      <td>38.0</td>\n",
       "      <td>179.0</td>\n",
       "      <td>193.0</td>\n",
       "      <td>85.0</td>\n",
       "      <td>83.0</td>\n",
       "      <td>3.0</td>\n",
       "      <td>52.0</td>\n",
       "      <td>28.0</td>\n",
       "    </tr>\n",
       "    <tr>\n",
       "      <th>BAL</th>\n",
       "      <td>13053.0</td>\n",
       "      <td>-5292.0</td>\n",
       "      <td>100.0</td>\n",
       "      <td>10.0</td>\n",
       "      <td>5.0</td>\n",
       "      <td>5.0</td>\n",
       "      <td>57.0</td>\n",
       "      <td>18345.0</td>\n",
       "      <td>7063.0</td>\n",
       "      <td>94.0</td>\n",
       "      <td>...</td>\n",
       "      <td>21.0</td>\n",
       "      <td>154.0</td>\n",
       "      <td>70.0</td>\n",
       "      <td>152.0</td>\n",
       "      <td>30.0</td>\n",
       "      <td>143.0</td>\n",
       "      <td>133.0</td>\n",
       "      <td>5.0</td>\n",
       "      <td>59.0</td>\n",
       "      <td>12.0</td>\n",
       "    </tr>\n",
       "    <tr>\n",
       "      <th>BUF</th>\n",
       "      <td>13866.0</td>\n",
       "      <td>-2526.0</td>\n",
       "      <td>119.0</td>\n",
       "      <td>15.0</td>\n",
       "      <td>5.0</td>\n",
       "      <td>10.0</td>\n",
       "      <td>82.0</td>\n",
       "      <td>16392.0</td>\n",
       "      <td>7236.0</td>\n",
       "      <td>101.0</td>\n",
       "      <td>...</td>\n",
       "      <td>9.0</td>\n",
       "      <td>186.0</td>\n",
       "      <td>128.0</td>\n",
       "      <td>176.0</td>\n",
       "      <td>164.0</td>\n",
       "      <td>93.0</td>\n",
       "      <td>108.0</td>\n",
       "      <td>2.0</td>\n",
       "      <td>38.0</td>\n",
       "      <td>23.0</td>\n",
       "    </tr>\n",
       "    <tr>\n",
       "      <th>CAR</th>\n",
       "      <td>21001.0</td>\n",
       "      <td>8479.0</td>\n",
       "      <td>106.0</td>\n",
       "      <td>20.0</td>\n",
       "      <td>8.0</td>\n",
       "      <td>12.0</td>\n",
       "      <td>52.0</td>\n",
       "      <td>12522.0</td>\n",
       "      <td>6790.0</td>\n",
       "      <td>141.0</td>\n",
       "      <td>...</td>\n",
       "      <td>11.0</td>\n",
       "      <td>176.0</td>\n",
       "      <td>146.0</td>\n",
       "      <td>179.0</td>\n",
       "      <td>147.0</td>\n",
       "      <td>112.0</td>\n",
       "      <td>99.0</td>\n",
       "      <td>3.0</td>\n",
       "      <td>51.0</td>\n",
       "      <td>15.0</td>\n",
       "    </tr>\n",
       "  </tbody>\n",
       "</table>\n",
       "<p>5 rows × 53 columns</p>\n",
       "</div>"
      ],
      "text/plain": [
       "         PosTeamScore  ScoreDiff  Accepted.Penalty  Challenge.Replay  \\\n",
       "posteam                                                                \n",
       "ARI           19791.0     6444.0             114.0              13.0   \n",
       "ATL           12326.0    -2723.0             103.0              11.0   \n",
       "BAL           13053.0    -5292.0             100.0              10.0   \n",
       "BUF           13866.0    -2526.0             119.0              15.0   \n",
       "CAR           21001.0     8479.0             106.0              20.0   \n",
       "\n",
       "         ChalOverturned  ChalAccept  OffPenalty  DefTeamScore  Yards.Gained  \\\n",
       "posteam                                                                       \n",
       "ARI                 6.0         7.0        50.0       13347.0        7924.0   \n",
       "ATL                 4.0         7.0        53.0       15049.0        7306.0   \n",
       "BAL                 5.0         5.0        57.0       18345.0        7063.0   \n",
       "BUF                 5.0        10.0        82.0       16392.0        7236.0   \n",
       "CAR                 8.0        12.0        52.0       12522.0        6790.0   \n",
       "\n",
       "            sp   ...    InterceptionThrown  LeftRun  MiddleRun  RightRun  \\\n",
       "posteam          ...                                                       \n",
       "ARI      128.0   ...                  14.0    134.0      146.0     141.0   \n",
       "ATL       96.0   ...                  18.0    182.0       38.0     179.0   \n",
       "BAL       94.0   ...                  21.0    154.0       70.0     152.0   \n",
       "BUF      101.0   ...                   9.0    186.0      128.0     176.0   \n",
       "CAR      141.0   ...                  11.0    176.0      146.0     179.0   \n",
       "\n",
       "         RunGapEnd  RunGapGuard  RunGapTackle  ReturnResultTD  \\\n",
       "posteam                                                         \n",
       "ARI           88.0         50.0         145.0             2.0   \n",
       "ATL          193.0         85.0          83.0             3.0   \n",
       "BAL           30.0        143.0         133.0             5.0   \n",
       "BUF          164.0         93.0         108.0             2.0   \n",
       "CAR          147.0        112.0          99.0             3.0   \n",
       "\n",
       "         ReturnResultTouch  Fumble  \n",
       "posteam                             \n",
       "ARI                   46.0    21.0  \n",
       "ATL                   52.0    28.0  \n",
       "BAL                   59.0    12.0  \n",
       "BUF                   38.0    23.0  \n",
       "CAR                   51.0    15.0  \n",
       "\n",
       "[5 rows x 53 columns]"
      ]
     },
     "execution_count": 8,
     "metadata": {},
     "output_type": "execute_result"
    }
   ],
   "source": [
    "new_df = df.groupby(df[\"posteam\"]).sum()\n",
    "\n",
    "new_df.head()"
   ]
  },
  {
   "cell_type": "code",
   "execution_count": 9,
   "metadata": {
    "collapsed": false
   },
   "outputs": [
    {
     "data": {
      "image/png": "[encoded data removed]",
      "text/plain": [
       "<matplotlib.figure.Figure at 0x636e0f0>"
      ]
     },
     "metadata": {},
     "output_type": "display_data"
    }
   ],
   "source": [
    "X= new_df\n",
    "\n",
    "sum_of_distances = {}\n",
    "for num_clusters in range(1,16):\n",
    "    kmeans = KMeans(n_clusters=num_clusters)\n",
    "    kmeans.fit(X)\n",
    "    sum_of_distances[num_clusters] = kmeans.inertia_\n",
    "ax = Series(sum_of_distances).sort_index().plot()\n",
    "ax.set_xlabel('Number of clusters')\n",
    "ax.set_ylabel('Sum of distances of points to closest cluster centers')\n",
    "\n",
    "\n",
    "k_means = KMeans(init='k-means++', n_clusters=5, n_init=10, random_state = 42)\n",
    "k_means.fit(X)\n",
    "\n",
    "# Get cluster assignment labels\n",
    "labels = k_means.labels_\n",
    "# Format results as a DataFrame\n",
    "results = pd.DataFrame([X.index,labels]).T"
   ]
  },
  {
   "cell_type": "code",
   "execution_count": 10,
   "metadata": {
    "collapsed": false
   },
   "outputs": [
    {
     "data": {
      "image/png": "[encoded data removed]",
      "text/plain": [
       "<matplotlib.figure.Figure at 0xe7c48d0>"
      ]
     },
     "metadata": {},
     "output_type": "display_data"
    }
   ],
   "source": [
    "pca_2 = PCA(2)\n",
    "\n",
    "plot_columns = pca_2.fit_transform(X)\n",
    "\n",
    "# Plot teams based on two dimensions, and shade by cluster label\n",
    "plt.figure(figsize=(8,8))\n",
    "plt.xlabel(\"PCA 1\")\n",
    "plt.ylabel(\"PCA 2\")\n",
    "plt.scatter(x=plot_columns[:,0], y=plot_columns[:,1], s=100, c=k_means.labels_, marker= \">\")\n",
    "\n",
    "labels = ['{}'.format(i) for i in results[0]]\n",
    "\n",
    "for label, x, y in zip(labels, plot_columns[:,0], plot_columns[:,1]):\n",
    "    plt.annotate(label, xy = (x, y))"
   ]
  },
  {
   "cell_type": "code",
   "execution_count": 11,
   "metadata": {
    "collapsed": false
   },
   "outputs": [
    {
     "data": {
      "text/plain": [
       "ScoreDiff    0.801337\n",
       "dtype: float64"
      ]
     },
     "execution_count": 11,
     "metadata": {},
     "output_type": "execute_result"
    }
   ],
   "source": [
    "(pd.Series(pca_2.components_[0], index=X.columns).sort_values())[-1:]"
   ]
  },
  {
   "cell_type": "code",
   "execution_count": 12,
   "metadata": {
    "collapsed": false
   },
   "outputs": [
    {
     "name": "stdout",
     "output_type": "stream",
     "text": [
      "posteam\n",
      "CIN    5355.0\n",
      "SEA    5594.0\n",
      "ARI    6444.0\n",
      "NE     7993.0\n",
      "CAR    8479.0\n",
      "Name: ScoreDiff, dtype: float64\n"
     ]
    }
   ],
   "source": [
    "print X[\"ScoreDiff\"].sort_values()[-5:]"
   ]
  },
  {
   "cell_type": "markdown",
   "metadata": {},
   "source": [
    "Now remove points from DataFrame and try again"
   ]
  },
  {
   "cell_type": "code",
   "execution_count": 13,
   "metadata": {
    "collapsed": false
   },
   "outputs": [
    {
     "data": {
      "text/html": [
       "<div>\n",
       "<table border=\"1\" class=\"dataframe\">\n",
       "  <thead>\n",
       "    <tr style=\"text-align: right;\">\n",
       "      <th></th>\n",
       "      <th>Accepted.Penalty</th>\n",
       "      <th>Challenge.Replay</th>\n",
       "      <th>ChalOverturned</th>\n",
       "      <th>ChalAccept</th>\n",
       "      <th>OffPenalty</th>\n",
       "      <th>Yards.Gained</th>\n",
       "      <th>sp</th>\n",
       "      <th>Touchdown</th>\n",
       "      <th>Safety</th>\n",
       "      <th>ExPointAborted</th>\n",
       "      <th>...</th>\n",
       "      <th>InterceptionThrown</th>\n",
       "      <th>LeftRun</th>\n",
       "      <th>MiddleRun</th>\n",
       "      <th>RightRun</th>\n",
       "      <th>RunGapEnd</th>\n",
       "      <th>RunGapGuard</th>\n",
       "      <th>RunGapTackle</th>\n",
       "      <th>ReturnResultTD</th>\n",
       "      <th>ReturnResultTouch</th>\n",
       "      <th>Fumble</th>\n",
       "    </tr>\n",
       "    <tr>\n",
       "      <th>posteam</th>\n",
       "      <th></th>\n",
       "      <th></th>\n",
       "      <th></th>\n",
       "      <th></th>\n",
       "      <th></th>\n",
       "      <th></th>\n",
       "      <th></th>\n",
       "      <th></th>\n",
       "      <th></th>\n",
       "      <th></th>\n",
       "      <th></th>\n",
       "      <th></th>\n",
       "      <th></th>\n",
       "      <th></th>\n",
       "      <th></th>\n",
       "      <th></th>\n",
       "      <th></th>\n",
       "      <th></th>\n",
       "      <th></th>\n",
       "      <th></th>\n",
       "      <th></th>\n",
       "    </tr>\n",
       "  </thead>\n",
       "  <tbody>\n",
       "    <tr>\n",
       "      <th>ARI</th>\n",
       "      <td>114.0</td>\n",
       "      <td>13.0</td>\n",
       "      <td>6.0</td>\n",
       "      <td>7.0</td>\n",
       "      <td>50.0</td>\n",
       "      <td>7924.0</td>\n",
       "      <td>128.0</td>\n",
       "      <td>56.0</td>\n",
       "      <td>0.0</td>\n",
       "      <td>0.0</td>\n",
       "      <td>...</td>\n",
       "      <td>14.0</td>\n",
       "      <td>134.0</td>\n",
       "      <td>146.0</td>\n",
       "      <td>141.0</td>\n",
       "      <td>88.0</td>\n",
       "      <td>50.0</td>\n",
       "      <td>145.0</td>\n",
       "      <td>2.0</td>\n",
       "      <td>46.0</td>\n",
       "      <td>21.0</td>\n",
       "    </tr>\n",
       "    <tr>\n",
       "      <th>ATL</th>\n",
       "      <td>103.0</td>\n",
       "      <td>11.0</td>\n",
       "      <td>4.0</td>\n",
       "      <td>7.0</td>\n",
       "      <td>53.0</td>\n",
       "      <td>7306.0</td>\n",
       "      <td>96.0</td>\n",
       "      <td>40.0</td>\n",
       "      <td>0.0</td>\n",
       "      <td>0.0</td>\n",
       "      <td>...</td>\n",
       "      <td>18.0</td>\n",
       "      <td>182.0</td>\n",
       "      <td>38.0</td>\n",
       "      <td>179.0</td>\n",
       "      <td>193.0</td>\n",
       "      <td>85.0</td>\n",
       "      <td>83.0</td>\n",
       "      <td>3.0</td>\n",
       "      <td>52.0</td>\n",
       "      <td>28.0</td>\n",
       "    </tr>\n",
       "    <tr>\n",
       "      <th>BAL</th>\n",
       "      <td>100.0</td>\n",
       "      <td>10.0</td>\n",
       "      <td>5.0</td>\n",
       "      <td>5.0</td>\n",
       "      <td>57.0</td>\n",
       "      <td>7063.0</td>\n",
       "      <td>94.0</td>\n",
       "      <td>35.0</td>\n",
       "      <td>0.0</td>\n",
       "      <td>0.0</td>\n",
       "      <td>...</td>\n",
       "      <td>21.0</td>\n",
       "      <td>154.0</td>\n",
       "      <td>70.0</td>\n",
       "      <td>152.0</td>\n",
       "      <td>30.0</td>\n",
       "      <td>143.0</td>\n",
       "      <td>133.0</td>\n",
       "      <td>5.0</td>\n",
       "      <td>59.0</td>\n",
       "      <td>12.0</td>\n",
       "    </tr>\n",
       "    <tr>\n",
       "      <th>BUF</th>\n",
       "      <td>119.0</td>\n",
       "      <td>15.0</td>\n",
       "      <td>5.0</td>\n",
       "      <td>10.0</td>\n",
       "      <td>82.0</td>\n",
       "      <td>7236.0</td>\n",
       "      <td>101.0</td>\n",
       "      <td>45.0</td>\n",
       "      <td>0.0</td>\n",
       "      <td>0.0</td>\n",
       "      <td>...</td>\n",
       "      <td>9.0</td>\n",
       "      <td>186.0</td>\n",
       "      <td>128.0</td>\n",
       "      <td>176.0</td>\n",
       "      <td>164.0</td>\n",
       "      <td>93.0</td>\n",
       "      <td>108.0</td>\n",
       "      <td>2.0</td>\n",
       "      <td>38.0</td>\n",
       "      <td>23.0</td>\n",
       "    </tr>\n",
       "    <tr>\n",
       "      <th>CAR</th>\n",
       "      <td>106.0</td>\n",
       "      <td>20.0</td>\n",
       "      <td>8.0</td>\n",
       "      <td>12.0</td>\n",
       "      <td>52.0</td>\n",
       "      <td>6790.0</td>\n",
       "      <td>141.0</td>\n",
       "      <td>57.0</td>\n",
       "      <td>1.0</td>\n",
       "      <td>1.0</td>\n",
       "      <td>...</td>\n",
       "      <td>11.0</td>\n",
       "      <td>176.0</td>\n",
       "      <td>146.0</td>\n",
       "      <td>179.0</td>\n",
       "      <td>147.0</td>\n",
       "      <td>112.0</td>\n",
       "      <td>99.0</td>\n",
       "      <td>3.0</td>\n",
       "      <td>51.0</td>\n",
       "      <td>15.0</td>\n",
       "    </tr>\n",
       "  </tbody>\n",
       "</table>\n",
       "<p>5 rows × 50 columns</p>\n",
       "</div>"
      ],
      "text/plain": [
       "         Accepted.Penalty  Challenge.Replay  ChalOverturned  ChalAccept  \\\n",
       "posteam                                                                   \n",
       "ARI                 114.0              13.0             6.0         7.0   \n",
       "ATL                 103.0              11.0             4.0         7.0   \n",
       "BAL                 100.0              10.0             5.0         5.0   \n",
       "BUF                 119.0              15.0             5.0        10.0   \n",
       "CAR                 106.0              20.0             8.0        12.0   \n",
       "\n",
       "         OffPenalty  Yards.Gained     sp  Touchdown  Safety  ExPointAborted  \\\n",
       "posteam                                                                       \n",
       "ARI            50.0        7924.0  128.0       56.0     0.0             0.0   \n",
       "ATL            53.0        7306.0   96.0       40.0     0.0             0.0   \n",
       "BAL            57.0        7063.0   94.0       35.0     0.0             0.0   \n",
       "BUF            82.0        7236.0  101.0       45.0     0.0             0.0   \n",
       "CAR            52.0        6790.0  141.0       57.0     1.0             1.0   \n",
       "\n",
       "          ...    InterceptionThrown  LeftRun  MiddleRun  RightRun  RunGapEnd  \\\n",
       "posteam   ...                                                                  \n",
       "ARI       ...                  14.0    134.0      146.0     141.0       88.0   \n",
       "ATL       ...                  18.0    182.0       38.0     179.0      193.0   \n",
       "BAL       ...                  21.0    154.0       70.0     152.0       30.0   \n",
       "BUF       ...                   9.0    186.0      128.0     176.0      164.0   \n",
       "CAR       ...                  11.0    176.0      146.0     179.0      147.0   \n",
       "\n",
       "         RunGapGuard  RunGapTackle  ReturnResultTD  ReturnResultTouch  Fumble  \n",
       "posteam                                                                        \n",
       "ARI             50.0         145.0             2.0               46.0    21.0  \n",
       "ATL             85.0          83.0             3.0               52.0    28.0  \n",
       "BAL            143.0         133.0             5.0               59.0    12.0  \n",
       "BUF             93.0         108.0             2.0               38.0    23.0  \n",
       "CAR            112.0          99.0             3.0               51.0    15.0  \n",
       "\n",
       "[5 rows x 50 columns]"
      ]
     },
     "execution_count": 13,
     "metadata": {},
     "output_type": "execute_result"
    }
   ],
   "source": [
    "new_X = new_df\n",
    "new_X = new_X.drop('PosTeamScore', 1)\n",
    "new_X = new_X.drop('ScoreDiff', 1)\n",
    "new_X = new_X.drop('DefTeamScore', 1)\n",
    "new_X.head()"
   ]
  },
  {
   "cell_type": "markdown",
   "metadata": {},
   "source": [
    "## Cluster teams with new parameters"
   ]
  },
  {
   "cell_type": "code",
   "execution_count": 14,
   "metadata": {
    "collapsed": false
   },
   "outputs": [
    {
     "data": {
      "image/png": "[encoded data removed]",
      "text/plain": [
       "<matplotlib.figure.Figure at 0x3cb7f28>"
      ]
     },
     "metadata": {},
     "output_type": "display_data"
    }
   ],
   "source": [
    "sum_of_distances = {}\n",
    "\n",
    "for num_clusters in range(1,16):\n",
    "    kmeans = KMeans(n_clusters=num_clusters)\n",
    "    kmeans.fit(new_X)\n",
    "    sum_of_distances[num_clusters] = kmeans.inertia_\n",
    "ax = Series(sum_of_distances).sort_index().plot()\n",
    "ax.set_xlabel('Number of clusters')\n",
    "ax.set_ylabel('Sum of distances of points to closest cluster centers')\n",
    "\n",
    "new_k_means = KMeans(init='k-means++', n_clusters = 5, n_init=1000, random_state = 42)\n",
    "new_k_means.fit(new_X)\n",
    "\n",
    "# Get cluster assignment labels\n",
    "new_labels = new_k_means.labels_\n",
    "# Format results as a DataFrame\n",
    "new_results = pd.DataFrame([new_X.index,labels]).T"
   ]
  },
  {
   "cell_type": "code",
   "execution_count": 15,
   "metadata": {
    "collapsed": false
   },
   "outputs": [
    {
     "data": {
      "image/png": "[encoded data removed]",
      "text/plain": [
       "<matplotlib.figure.Figure at 0x10954fd0>"
      ]
     },
     "metadata": {},
     "output_type": "display_data"
    }
   ],
   "source": [
    "pca_2 = PCA(2)\n",
    "\n",
    "plot_columns = pca_2.fit_transform(new_X)\n",
    "\n",
    "# Plot teams based on two dimensions, and shade by cluster label\n",
    "plt.figure(figsize=(8,8))\n",
    "plt.xlabel(\"PCA 1\")\n",
    "plt.ylabel(\"PCA 2\")\n",
    "plt.scatter(x=plot_columns[:,0], y=plot_columns[:,1], s=100, c=new_labels)\n",
    "\n",
    "labels = ['{}'.format(i) for i in new_results[0]]\n",
    "\n",
    "for label, x, y in zip(labels, plot_columns[:,0], plot_columns[:,1]):\n",
    "    plt.annotate(label, xy = (x, y))"
   ]
  },
  {
   "cell_type": "code",
   "execution_count": 16,
   "metadata": {
    "collapsed": false
   },
   "outputs": [
    {
     "data": {
      "text/plain": [
       "ydsnet   -0.995782\n",
       "dtype: float64"
      ]
     },
     "execution_count": 16,
     "metadata": {},
     "output_type": "execute_result"
    }
   ],
   "source": [
    "(pd.Series(pca_2.components_[0,:], index=new_X.columns).sort_values())[:1]"
   ]
  },
  {
   "cell_type": "code",
   "execution_count": 17,
   "metadata": {
    "collapsed": false
   },
   "outputs": [
    {
     "name": "stdout",
     "output_type": "stream",
     "text": [
      "posteam\n",
      "STL    26209.0\n",
      "Name: ydsnet, dtype: float64\n"
     ]
    }
   ],
   "source": [
    "print new_X[\"ydsnet\"].sort_values()[:1]"
   ]
  },
  {
   "cell_type": "code",
   "execution_count": 18,
   "metadata": {
    "collapsed": false
   },
   "outputs": [
    {
     "name": "stdout",
     "output_type": "stream",
     "text": [
      "posteam\n",
      "TB     39065.0\n",
      "ARI    40719.0\n",
      "SD     40807.0\n",
      "ATL    40851.0\n",
      "NO     41450.0\n",
      "Name: ydsnet, dtype: float64\n"
     ]
    }
   ],
   "source": [
    "print new_X[\"ydsnet\"].sort_values()[-5:]"
   ]
  },
  {
   "cell_type": "markdown",
   "metadata": {},
   "source": [
    "## Try to predict wins per team"
   ]
  },
  {
   "cell_type": "markdown",
   "metadata": {},
   "source": [
    "Add column that incorporates the wins for each team"
   ]
  },
  {
   "cell_type": "code",
   "execution_count": 19,
   "metadata": {
    "collapsed": false
   },
   "outputs": [
    {
     "data": {
      "text/plain": [
       "posteam\n",
       "ARI    13\n",
       "ATL     8\n",
       "BAL     5\n",
       "BUF     8\n",
       "CAR    15\n",
       "Name: Wins, dtype: int64"
      ]
     },
     "execution_count": 19,
     "metadata": {},
     "output_type": "execute_result"
    }
   ],
   "source": [
    "wins = [13, 8, 5, 8, 15, 6, 12, 3, 4, 12, 7, 10, 9, 8, 5, 11, 6, 11, 12, 7, 6, 10, 7, 7, 10, 4, 10, 5, 7, 6, 3, 9]\n",
    "new_df[\"Wins\"] = wins\n",
    "new_df.Wins.head()"
   ]
  },
  {
   "cell_type": "markdown",
   "metadata": {},
   "source": [
    "Run Lasso, Lasso with cross-validation, Ridge, and Linear Regressions"
   ]
  },
  {
   "cell_type": "code",
   "execution_count": 20,
   "metadata": {
    "collapsed": false
   },
   "outputs": [],
   "source": [
    "X = new_df[new_df.columns[0:16]].values\n",
    "y = new_df.Wins.values\n",
    "X_train, X_test, y_train, y_test = train_test_split(X, y, test_size=0.1, random_state = 42)\n",
    "n_folds = 5\n",
    "k_fold = cross_validation.KFold(len(X_train), n_folds) \n",
    "lasso_alphas =  10**np.linspace(10,-2,100)*0.5\n",
    "lasso_avg_rmse = {}\n",
    "\n",
    "for alpha in lasso_alphas:\n",
    "    lasso = linear_model.Lasso(alpha=alpha, max_iter=10000000)\n",
    "    avg_mse = 0\n",
    "    for k, (train, test) in enumerate(k_fold):\n",
    "        lasso.fit(X_train[train], y_train[train])\n",
    "        avg_mse = avg_mse + mean_squared_error(y_train[test], lasso.predict(X_train[test])) \n",
    "    lasso_avg_rmse[alpha] = avg_mse / n_folds\n",
    "best_alpha_lasso = min(lasso_avg_rmse, key=lasso_avg_rmse.get)"
   ]
  },
  {
   "cell_type": "code",
   "execution_count": 21,
   "metadata": {
    "collapsed": true
   },
   "outputs": [],
   "source": [
    "ridge_alphas =  10**np.linspace(10,-2,100)*0.5\n",
    "ridge_avg_rmse = {}\n",
    "\n",
    "for alpha in ridge_alphas:\n",
    "    ridge = linear_model.Ridge(alpha=alpha)\n",
    "    avg_mse = 0\n",
    "    for k, (train, test) in enumerate(k_fold):\n",
    "        ridge.fit(X_train[train], y_train[train])\n",
    "        avg_mse = avg_mse + mean_squared_error(y_train[test], ridge.predict(X_train[test])) \n",
    "    ridge_avg_rmse[alpha] = avg_mse / n_folds\n",
    "best_alpha_ridge = min(ridge_avg_rmse, key=ridge_avg_rmse.get)"
   ]
  },
  {
   "cell_type": "code",
   "execution_count": 22,
   "metadata": {
    "collapsed": false
   },
   "outputs": [
    {
     "name": "stdout",
     "output_type": "stream",
     "text": [
      "MSE for linear: 3.80429486701\n",
      "MSE for ridge: 0.649521654288\n",
      "MSE for lasso: 0.809948403495\n"
     ]
    }
   ],
   "source": [
    "linear_clf = linear_model.LinearRegression()\n",
    "ridge_clf = linear_model.Ridge(alpha=best_alpha_ridge)\n",
    "lasso_clf = linear_model.Lasso(alpha=best_alpha_lasso)\n",
    "\n",
    "def fit_reg(model, name):\n",
    "    model.fit(X_train, y_train)\n",
    "    pred = model.predict(X_test)\n",
    "    mse = mean_squared_error(pred, y_test)\n",
    "    print(\"MSE for {0}: {1}\".format(name, mse))\n",
    "\n",
    "fit_reg(linear_clf, \"linear\")\n",
    "fit_reg(ridge_clf, \"ridge\")\n",
    "fit_reg(lasso_clf, \"lasso\")"
   ]
  },
  {
   "cell_type": "code",
   "execution_count": 23,
   "metadata": {
    "collapsed": false
   },
   "outputs": [
    {
     "data": {
      "text/plain": [
       "LassoCV(alphas=None, copy_X=True, cv=10, eps=0.001, fit_intercept=True,\n",
       "    max_iter=10000, n_alphas=100, n_jobs=1, normalize=False,\n",
       "    positive=False, precompute='auto', random_state=None,\n",
       "    selection='cyclic', tol=0.0001, verbose=False)"
      ]
     },
     "execution_count": 23,
     "metadata": {},
     "output_type": "execute_result"
    }
   ],
   "source": [
    "lassocv = LassoCV(cv=10, max_iter=10000)\n",
    "lassocv.fit(X_train, y_train)"
   ]
  },
  {
   "cell_type": "code",
   "execution_count": 24,
   "metadata": {
    "collapsed": false
   },
   "outputs": [
    {
     "name": "stdout",
     "output_type": "stream",
     "text": [
      "MSE for lasso with CV alpha: 0.804847358847\n"
     ]
    }
   ],
   "source": [
    "lasso.set_params(alpha=lassocv.alpha_)\n",
    "lasso.fit(X_train, y_train)\n",
    "print (\"MSE for lasso with CV alpha: {}\".format(mean_squared_error(y_test, lasso.predict(X_test))))"
   ]
  },
  {
   "cell_type": "code",
   "execution_count": 25,
   "metadata": {
    "collapsed": false
   },
   "outputs": [
    {
     "name": "stdout",
     "output_type": "stream",
     "text": [
      "Linear w/ only non-zeros MSE: 0.756675579578\n"
     ]
    }
   ],
   "source": [
    "lasso_coef_non_zero = np.array([1 if val != 0 else 0 for (var, val) in zip(data.columns, lasso.coef_)], \n",
    "                               dtype=bool)\n",
    "X_train_nonzero = X_train[:,lasso_coef_non_zero]\n",
    "X_test_nonzero = X_test[:, lasso_coef_non_zero]\n",
    "linear_clf.fit(X_train_nonzero, y_train)\n",
    "pred_y = linear_clf.predict(X_test_nonzero)\n",
    "print (\"Linear w/ only non-zeros MSE: {}\".format(mean_squared_error(pred_y, y_test)))"
   ]
  }
 ],
 "metadata": {
  "anaconda-cloud": {},
  "kernelspec": {
   "display_name": "Python [Root]",
   "language": "python",
   "name": "Python [Root]"
  },
  "language_info": {
   "codemirror_mode": {
    "name": "ipython",
    "version": 3
   },
   "file_extension": ".py",
   "mimetype": "text/x-python",
   "name": "python",
   "nbconvert_exporter": "python",
   "pygments_lexer": "ipython3",
   "version": "3.5.2"
  }
 },
 "nbformat": 4,
 "nbformat_minor": 0
}
